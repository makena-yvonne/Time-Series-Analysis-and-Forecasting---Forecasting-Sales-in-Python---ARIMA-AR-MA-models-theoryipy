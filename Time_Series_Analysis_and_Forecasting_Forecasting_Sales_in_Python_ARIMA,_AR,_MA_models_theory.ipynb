{
  "nbformat": 4,
  "nbformat_minor": 0,
  "metadata": {
    "colab": {
      "name": "Time Series Analysis and Forecasting - Forecasting Sales in Python - ARIMA, AR, MA models theory.ipynb",
      "provenance": []
    },
    "kernelspec": {
      "name": "python3",
      "display_name": "Python 3"
    },
    "language_info": {
      "name": "python"
    }
  },
  "cells": [
    {
      "cell_type": "code",
      "metadata": {
        "colab": {
          "base_uri": "https://localhost:8080/"
        },
        "id": "Bi5jtU3L603Q",
        "outputId": "10a852f5-49c8-4894-cf2e-4a93b24f1d5e"
      },
      "source": [
        "#link to google drive\n",
        "from google.colab import drive\n",
        "\n",
        "drive.mount('/content/gdrive')"
      ],
      "execution_count": 2,
      "outputs": [
        {
          "output_type": "stream",
          "name": "stdout",
          "text": [
            "Mounted at /content/gdrive\n"
          ]
        }
      ]
    },
    {
      "cell_type": "code",
      "metadata": {
        "id": "GKnXUDqx5X79"
      },
      "source": [
        "#impot libraries\n",
        "import pandas as pd\n",
        "import matplotlib.pyplot as plt\n",
        "% matplotlib inline\n"
      ],
      "execution_count": 1,
      "outputs": []
    },
    {
      "cell_type": "code",
      "metadata": {
        "colab": {
          "base_uri": "https://localhost:8080/",
          "height": 206
        },
        "id": "2b5YuWpA7muc",
        "outputId": "5ed82a51-0fcb-4af7-da01-bb356a6fa5ac"
      },
      "source": [
        "#read the dataset\n",
        "shampoo = pd.read_csv('/content/gdrive/MyDrive/INTERVIEWS/Zalando/shampoo.csv')\n",
        "shampoo.head()"
      ],
      "execution_count": 5,
      "outputs": [
        {
          "output_type": "execute_result",
          "data": {
            "text/html": [
              "<div>\n",
              "<style scoped>\n",
              "    .dataframe tbody tr th:only-of-type {\n",
              "        vertical-align: middle;\n",
              "    }\n",
              "\n",
              "    .dataframe tbody tr th {\n",
              "        vertical-align: top;\n",
              "    }\n",
              "\n",
              "    .dataframe thead th {\n",
              "        text-align: right;\n",
              "    }\n",
              "</style>\n",
              "<table border=\"1\" class=\"dataframe\">\n",
              "  <thead>\n",
              "    <tr style=\"text-align: right;\">\n",
              "      <th></th>\n",
              "      <th>Month</th>\n",
              "      <th>Sales</th>\n",
              "    </tr>\n",
              "  </thead>\n",
              "  <tbody>\n",
              "    <tr>\n",
              "      <th>0</th>\n",
              "      <td>1-Jan</td>\n",
              "      <td>266.0</td>\n",
              "    </tr>\n",
              "    <tr>\n",
              "      <th>1</th>\n",
              "      <td>2-Jan</td>\n",
              "      <td>145.9</td>\n",
              "    </tr>\n",
              "    <tr>\n",
              "      <th>2</th>\n",
              "      <td>3-Jan</td>\n",
              "      <td>183.1</td>\n",
              "    </tr>\n",
              "    <tr>\n",
              "      <th>3</th>\n",
              "      <td>4-Jan</td>\n",
              "      <td>119.3</td>\n",
              "    </tr>\n",
              "    <tr>\n",
              "      <th>4</th>\n",
              "      <td>5-Jan</td>\n",
              "      <td>180.3</td>\n",
              "    </tr>\n",
              "  </tbody>\n",
              "</table>\n",
              "</div>"
            ],
            "text/plain": [
              "   Month  Sales\n",
              "0  1-Jan  266.0\n",
              "1  2-Jan  145.9\n",
              "2  3-Jan  183.1\n",
              "3  4-Jan  119.3\n",
              "4  5-Jan  180.3"
            ]
          },
          "metadata": {},
          "execution_count": 5
        }
      ]
    },
    {
      "cell_type": "code",
      "metadata": {
        "colab": {
          "base_uri": "https://localhost:8080/"
        },
        "id": "SwCvVFgM8El8",
        "outputId": "af29f213-3138-4300-d2d4-558c82028f5c"
      },
      "source": [
        "#check the type\n",
        "type(shampoo)"
      ],
      "execution_count": 6,
      "outputs": [
        {
          "output_type": "execute_result",
          "data": {
            "text/plain": [
              "pandas.core.frame.DataFrame"
            ]
          },
          "metadata": {},
          "execution_count": 6
        }
      ]
    },
    {
      "cell_type": "code",
      "metadata": {
        "id": "PNHbXyMX8JcS"
      },
      "source": [
        "#convert the month to index column for easy manipulation\n",
        "#make the date column to proper date\n",
        "#convert the dataframe to series\n",
        "shampoo = pd.read_csv('/content/gdrive/MyDrive/INTERVIEWS/Zalando/shampoo.csv', index_col=[0],parse_dates=True,squeeze=True)"
      ],
      "execution_count": 7,
      "outputs": []
    },
    {
      "cell_type": "code",
      "metadata": {
        "colab": {
          "base_uri": "https://localhost:8080/"
        },
        "id": "NgVp5MLA84WX",
        "outputId": "000720f4-1e8d-4357-cc6a-94579d0ba431"
      },
      "source": [
        "type(shampoo)"
      ],
      "execution_count": 8,
      "outputs": [
        {
          "output_type": "execute_result",
          "data": {
            "text/plain": [
              "pandas.core.series.Series"
            ]
          },
          "metadata": {},
          "execution_count": 8
        }
      ]
    },
    {
      "cell_type": "code",
      "metadata": {
        "colab": {
          "base_uri": "https://localhost:8080/",
          "height": 297
        },
        "id": "Q_EqvCef9shT",
        "outputId": "381d407f-783e-4508-9aa5-11468431808e"
      },
      "source": [
        "#plot the data\n",
        "shampoo.plot()"
      ],
      "execution_count": 9,
      "outputs": [
        {
          "output_type": "execute_result",
          "data": {
            "text/plain": [
              "<matplotlib.axes._subplots.AxesSubplot at 0x7f2405d9ae10>"
            ]
          },
          "metadata": {},
          "execution_count": 9
        },
        {
          "output_type": "display_data",
          "data": {
            "image/png": "[encoded data removed]",
            "text/plain": [
              "<Figure size 432x288 with 1 Axes>"
            ]
          },
          "metadata": {
            "needs_background": "light"
          }
        }
      ]
    },
    {
      "cell_type": "code",
      "metadata": {
        "colab": {
          "base_uri": "https://localhost:8080/",
          "height": 297
        },
        "id": "zimiOZJt97LK",
        "outputId": "a7c9e084-5430-4d81-8292-c47fb80c5fd9"
      },
      "source": [
        "shampoo.plot(style='k.')"
      ],
      "execution_count": 13,
      "outputs": [
        {
          "output_type": "execute_result",
          "data": {
            "text/plain": [
              "<matplotlib.axes._subplots.AxesSubplot at 0x7f24055f54d0>"
            ]
          },
          "metadata": {},
          "execution_count": 13
        },
        {
          "output_type": "display_data",
          "data": {
            "image/png": "[encoded data removed]",
            "text/plain": [
              "<Figure size 432x288 with 1 Axes>"
            ]
          },
          "metadata": {
            "needs_background": "light"
          }
        }
      ]
    },
    {
      "cell_type": "code",
      "metadata": {
        "colab": {
          "base_uri": "https://localhost:8080/"
        },
        "id": "DLJTG5MD-Vs_",
        "outputId": "3c001079-975a-4cd3-de51-5c26c3886c8b"
      },
      "source": [
        "#check the data points\n",
        "shampoo.size"
      ],
      "execution_count": 14,
      "outputs": [
        {
          "output_type": "execute_result",
          "data": {
            "text/plain": [
              "36"
            ]
          },
          "metadata": {},
          "execution_count": 14
        }
      ]
    },
    {
      "cell_type": "code",
      "metadata": {
        "colab": {
          "base_uri": "https://localhost:8080/"
        },
        "id": "JByaxdsE-cXp",
        "outputId": "165a83d6-bc12-470f-a62a-cfcc9d6c2fbd"
      },
      "source": [
        "shampoo.describe()"
      ],
      "execution_count": 15,
      "outputs": [
        {
          "output_type": "execute_result",
          "data": {
            "text/plain": [
              "count     36.000000\n",
              "mean     312.600000\n",
              "std      148.937164\n",
              "min      119.300000\n",
              "25%      192.450000\n",
              "50%      280.150000\n",
              "75%      411.100000\n",
              "max      682.000000\n",
              "Name: Sales, dtype: float64"
            ]
          },
          "metadata": {},
          "execution_count": 15
        }
      ]
    },
    {
      "cell_type": "markdown",
      "metadata": {
        "id": "2rsVxiRUAZA-"
      },
      "source": [
        "Standard deviation - dispersion of a dataset relative to its mean and is calculated as the square root of the variance. The mean can be used to get an overall idea, or picture, of the data set. Mean is best used for a data set with numbers that are close together. The median can be used to get an idea of what values fall above the midpoint and what values fall below the midpoint."
      ]
    },
    {
      "cell_type": "code",
      "metadata": {
        "colab": {
          "base_uri": "https://localhost:8080/",
          "height": 296
        },
        "id": "FcAtbfK9-nhJ",
        "outputId": "5ae3798c-b1f6-4353-a80e-d7b261117da2"
      },
      "source": [
        "#smoothing of time series\n",
        "shampoo_ma=shampoo.rolling(window=10).mean()\n",
        "shampoo_ma.plot()"
      ],
      "execution_count": 21,
      "outputs": [
        {
          "output_type": "execute_result",
          "data": {
            "text/plain": [
              "<matplotlib.axes._subplots.AxesSubplot at 0x7f2405413690>"
            ]
          },
          "metadata": {},
          "execution_count": 21
        },
        {
          "output_type": "display_data",
          "data": {
            "image/png": "[encoded data removed]",
            "text/plain": [
              "<Figure size 432x288 with 1 Axes>"
            ]
          },
          "metadata": {
            "needs_background": "light"
          }
        }
      ]
    },
    {
      "cell_type": "code",
      "metadata": {
        "colab": {
          "base_uri": "https://localhost:8080/"
        },
        "id": "S1fOmF10BS_y",
        "outputId": "a84d1855-f800-4932-eeb3-3aca0ef6256f"
      },
      "source": [
        "#create a baseline model\n",
        "shampoo"
      ],
      "execution_count": 22,
      "outputs": [
        {
          "output_type": "execute_result",
          "data": {
            "text/plain": [
              "Month\n",
              "1-Jan     266.0\n",
              "2-Jan     145.9\n",
              "3-Jan     183.1\n",
              "4-Jan     119.3\n",
              "5-Jan     180.3\n",
              "6-Jan     168.5\n",
              "7-Jan     231.8\n",
              "8-Jan     224.5\n",
              "9-Jan     192.8\n",
              "10-Jan    122.9\n",
              "11-Jan    336.5\n",
              "12-Jan    185.9\n",
              "1-Feb     194.3\n",
              "2-Feb     149.5\n",
              "3-Feb     210.1\n",
              "4-Feb     273.3\n",
              "5-Feb     191.4\n",
              "6-Feb     287.0\n",
              "7-Feb     226.0\n",
              "8-Feb     303.6\n",
              "9-Feb     289.9\n",
              "10-Feb    421.6\n",
              "11-Feb    264.5\n",
              "12-Feb    342.3\n",
              "1-Mar     339.7\n",
              "2-Mar     440.4\n",
              "3-Mar     315.9\n",
              "4-Mar     439.3\n",
              "5-Mar     401.3\n",
              "6-Mar     437.4\n",
              "7-Mar     575.5\n",
              "8-Mar     407.6\n",
              "9-Mar     682.0\n",
              "10-Mar    475.3\n",
              "11-Mar    581.3\n",
              "12-Mar    646.9\n",
              "Name: Sales, dtype: float64"
            ]
          },
          "metadata": {},
          "execution_count": 22
        }
      ]
    },
    {
      "cell_type": "code",
      "metadata": {
        "id": "lUZgLh2dBeP8"
      },
      "source": [
        "#shift one data point down\n",
        "shampoo_base = pd.concat([shampoo,shampoo.shift(1)],axis=1)"
      ],
      "execution_count": 31,
      "outputs": []
    },
    {
      "cell_type": "code",
      "metadata": {
        "colab": {
          "base_uri": "https://localhost:8080/",
          "height": 1000
        },
        "id": "arGcHCilCNOk",
        "outputId": "369cf0ae-ae18-4859-d1e9-4ca14bf810f0"
      },
      "source": [
        "shampoo_base"
      ],
      "execution_count": 32,
      "outputs": [
        {
          "output_type": "execute_result",
          "data": {
            "text/html": [
              "<div>\n",
              "<style scoped>\n",
              "    .dataframe tbody tr th:only-of-type {\n",
              "        vertical-align: middle;\n",
              "    }\n",
              "\n",
              "    .dataframe tbody tr th {\n",
              "        vertical-align: top;\n",
              "    }\n",
              "\n",
              "    .dataframe thead th {\n",
              "        text-align: right;\n",
              "    }\n",
              "</style>\n",
              "<table border=\"1\" class=\"dataframe\">\n",
              "  <thead>\n",
              "    <tr style=\"text-align: right;\">\n",
              "      <th></th>\n",
              "      <th>Sales</th>\n",
              "      <th>Sales</th>\n",
              "    </tr>\n",
              "    <tr>\n",
              "      <th>Month</th>\n",
              "      <th></th>\n",
              "      <th></th>\n",
              "    </tr>\n",
              "  </thead>\n",
              "  <tbody>\n",
              "    <tr>\n",
              "      <th>1-Jan</th>\n",
              "      <td>266.0</td>\n",
              "      <td>NaN</td>\n",
              "    </tr>\n",
              "    <tr>\n",
              "      <th>2-Jan</th>\n",
              "      <td>145.9</td>\n",
              "      <td>266.0</td>\n",
              "    </tr>\n",
              "    <tr>\n",
              "      <th>3-Jan</th>\n",
              "      <td>183.1</td>\n",
              "      <td>145.9</td>\n",
              "    </tr>\n",
              "    <tr>\n",
              "      <th>4-Jan</th>\n",
              "      <td>119.3</td>\n",
              "      <td>183.1</td>\n",
              "    </tr>\n",
              "    <tr>\n",
              "      <th>5-Jan</th>\n",
              "      <td>180.3</td>\n",
              "      <td>119.3</td>\n",
              "    </tr>\n",
              "    <tr>\n",
              "      <th>6-Jan</th>\n",
              "      <td>168.5</td>\n",
              "      <td>180.3</td>\n",
              "    </tr>\n",
              "    <tr>\n",
              "      <th>7-Jan</th>\n",
              "      <td>231.8</td>\n",
              "      <td>168.5</td>\n",
              "    </tr>\n",
              "    <tr>\n",
              "      <th>8-Jan</th>\n",
              "      <td>224.5</td>\n",
              "      <td>231.8</td>\n",
              "    </tr>\n",
              "    <tr>\n",
              "      <th>9-Jan</th>\n",
              "      <td>192.8</td>\n",
              "      <td>224.5</td>\n",
              "    </tr>\n",
              "    <tr>\n",
              "      <th>10-Jan</th>\n",
              "      <td>122.9</td>\n",
              "      <td>192.8</td>\n",
              "    </tr>\n",
              "    <tr>\n",
              "      <th>11-Jan</th>\n",
              "      <td>336.5</td>\n",
              "      <td>122.9</td>\n",
              "    </tr>\n",
              "    <tr>\n",
              "      <th>12-Jan</th>\n",
              "      <td>185.9</td>\n",
              "      <td>336.5</td>\n",
              "    </tr>\n",
              "    <tr>\n",
              "      <th>1-Feb</th>\n",
              "      <td>194.3</td>\n",
              "      <td>185.9</td>\n",
              "    </tr>\n",
              "    <tr>\n",
              "      <th>2-Feb</th>\n",
              "      <td>149.5</td>\n",
              "      <td>194.3</td>\n",
              "    </tr>\n",
              "    <tr>\n",
              "      <th>3-Feb</th>\n",
              "      <td>210.1</td>\n",
              "      <td>149.5</td>\n",
              "    </tr>\n",
              "    <tr>\n",
              "      <th>4-Feb</th>\n",
              "      <td>273.3</td>\n",
              "      <td>210.1</td>\n",
              "    </tr>\n",
              "    <tr>\n",
              "      <th>5-Feb</th>\n",
              "      <td>191.4</td>\n",
              "      <td>273.3</td>\n",
              "    </tr>\n",
              "    <tr>\n",
              "      <th>6-Feb</th>\n",
              "      <td>287.0</td>\n",
              "      <td>191.4</td>\n",
              "    </tr>\n",
              "    <tr>\n",
              "      <th>7-Feb</th>\n",
              "      <td>226.0</td>\n",
              "      <td>287.0</td>\n",
              "    </tr>\n",
              "    <tr>\n",
              "      <th>8-Feb</th>\n",
              "      <td>303.6</td>\n",
              "      <td>226.0</td>\n",
              "    </tr>\n",
              "    <tr>\n",
              "      <th>9-Feb</th>\n",
              "      <td>289.9</td>\n",
              "      <td>303.6</td>\n",
              "    </tr>\n",
              "    <tr>\n",
              "      <th>10-Feb</th>\n",
              "      <td>421.6</td>\n",
              "      <td>289.9</td>\n",
              "    </tr>\n",
              "    <tr>\n",
              "      <th>11-Feb</th>\n",
              "      <td>264.5</td>\n",
              "      <td>421.6</td>\n",
              "    </tr>\n",
              "    <tr>\n",
              "      <th>12-Feb</th>\n",
              "      <td>342.3</td>\n",
              "      <td>264.5</td>\n",
              "    </tr>\n",
              "    <tr>\n",
              "      <th>1-Mar</th>\n",
              "      <td>339.7</td>\n",
              "      <td>342.3</td>\n",
              "    </tr>\n",
              "    <tr>\n",
              "      <th>2-Mar</th>\n",
              "      <td>440.4</td>\n",
              "      <td>339.7</td>\n",
              "    </tr>\n",
              "    <tr>\n",
              "      <th>3-Mar</th>\n",
              "      <td>315.9</td>\n",
              "      <td>440.4</td>\n",
              "    </tr>\n",
              "    <tr>\n",
              "      <th>4-Mar</th>\n",
              "      <td>439.3</td>\n",
              "      <td>315.9</td>\n",
              "    </tr>\n",
              "    <tr>\n",
              "      <th>5-Mar</th>\n",
              "      <td>401.3</td>\n",
              "      <td>439.3</td>\n",
              "    </tr>\n",
              "    <tr>\n",
              "      <th>6-Mar</th>\n",
              "      <td>437.4</td>\n",
              "      <td>401.3</td>\n",
              "    </tr>\n",
              "    <tr>\n",
              "      <th>7-Mar</th>\n",
              "      <td>575.5</td>\n",
              "      <td>437.4</td>\n",
              "    </tr>\n",
              "    <tr>\n",
              "      <th>8-Mar</th>\n",
              "      <td>407.6</td>\n",
              "      <td>575.5</td>\n",
              "    </tr>\n",
              "    <tr>\n",
              "      <th>9-Mar</th>\n",
              "      <td>682.0</td>\n",
              "      <td>407.6</td>\n",
              "    </tr>\n",
              "    <tr>\n",
              "      <th>10-Mar</th>\n",
              "      <td>475.3</td>\n",
              "      <td>682.0</td>\n",
              "    </tr>\n",
              "    <tr>\n",
              "      <th>11-Mar</th>\n",
              "      <td>581.3</td>\n",
              "      <td>475.3</td>\n",
              "    </tr>\n",
              "    <tr>\n",
              "      <th>12-Mar</th>\n",
              "      <td>646.9</td>\n",
              "      <td>581.3</td>\n",
              "    </tr>\n",
              "  </tbody>\n",
              "</table>\n",
              "</div>"
            ],
            "text/plain": [
              "        Sales  Sales\n",
              "Month               \n",
              "1-Jan   266.0    NaN\n",
              "2-Jan   145.9  266.0\n",
              "3-Jan   183.1  145.9\n",
              "4-Jan   119.3  183.1\n",
              "5-Jan   180.3  119.3\n",
              "6-Jan   168.5  180.3\n",
              "7-Jan   231.8  168.5\n",
              "8-Jan   224.5  231.8\n",
              "9-Jan   192.8  224.5\n",
              "10-Jan  122.9  192.8\n",
              "11-Jan  336.5  122.9\n",
              "12-Jan  185.9  336.5\n",
              "1-Feb   194.3  185.9\n",
              "2-Feb   149.5  194.3\n",
              "3-Feb   210.1  149.5\n",
              "4-Feb   273.3  210.1\n",
              "5-Feb   191.4  273.3\n",
              "6-Feb   287.0  191.4\n",
              "7-Feb   226.0  287.0\n",
              "8-Feb   303.6  226.0\n",
              "9-Feb   289.9  303.6\n",
              "10-Feb  421.6  289.9\n",
              "11-Feb  264.5  421.6\n",
              "12-Feb  342.3  264.5\n",
              "1-Mar   339.7  342.3\n",
              "2-Mar   440.4  339.7\n",
              "3-Mar   315.9  440.4\n",
              "4-Mar   439.3  315.9\n",
              "5-Mar   401.3  439.3\n",
              "6-Mar   437.4  401.3\n",
              "7-Mar   575.5  437.4\n",
              "8-Mar   407.6  575.5\n",
              "9-Mar   682.0  407.6\n",
              "10-Mar  475.3  682.0\n",
              "11-Mar  581.3  475.3\n",
              "12-Mar  646.9  581.3"
            ]
          },
          "metadata": {},
          "execution_count": 32
        }
      ]
    },
    {
      "cell_type": "code",
      "metadata": {
        "colab": {
          "base_uri": "https://localhost:8080/",
          "height": 237
        },
        "id": "CVbpaxjtC8Mb",
        "outputId": "168f910f-2864-4427-a900-da195ad38835"
      },
      "source": [
        "#rename the columns\n",
        "shampoo_base.columns = ['Actual_Sales','Forecast_Sales']\n",
        "shampoo_base.head()"
      ],
      "execution_count": 42,
      "outputs": [
        {
          "output_type": "execute_result",
          "data": {
            "text/html": [
              "<div>\n",
              "<style scoped>\n",
              "    .dataframe tbody tr th:only-of-type {\n",
              "        vertical-align: middle;\n",
              "    }\n",
              "\n",
              "    .dataframe tbody tr th {\n",
              "        vertical-align: top;\n",
              "    }\n",
              "\n",
              "    .dataframe thead th {\n",
              "        text-align: right;\n",
              "    }\n",
              "</style>\n",
              "<table border=\"1\" class=\"dataframe\">\n",
              "  <thead>\n",
              "    <tr style=\"text-align: right;\">\n",
              "      <th></th>\n",
              "      <th>Actual_Sales</th>\n",
              "      <th>Forecast_Sales</th>\n",
              "    </tr>\n",
              "    <tr>\n",
              "      <th>Month</th>\n",
              "      <th></th>\n",
              "      <th></th>\n",
              "    </tr>\n",
              "  </thead>\n",
              "  <tbody>\n",
              "    <tr>\n",
              "      <th>2-Jan</th>\n",
              "      <td>145.9</td>\n",
              "      <td>266.0</td>\n",
              "    </tr>\n",
              "    <tr>\n",
              "      <th>3-Jan</th>\n",
              "      <td>183.1</td>\n",
              "      <td>145.9</td>\n",
              "    </tr>\n",
              "    <tr>\n",
              "      <th>4-Jan</th>\n",
              "      <td>119.3</td>\n",
              "      <td>183.1</td>\n",
              "    </tr>\n",
              "    <tr>\n",
              "      <th>5-Jan</th>\n",
              "      <td>180.3</td>\n",
              "      <td>119.3</td>\n",
              "    </tr>\n",
              "    <tr>\n",
              "      <th>6-Jan</th>\n",
              "      <td>168.5</td>\n",
              "      <td>180.3</td>\n",
              "    </tr>\n",
              "  </tbody>\n",
              "</table>\n",
              "</div>"
            ],
            "text/plain": [
              "       Actual_Sales  Forecast_Sales\n",
              "Month                              \n",
              "2-Jan         145.9           266.0\n",
              "3-Jan         183.1           145.9\n",
              "4-Jan         119.3           183.1\n",
              "5-Jan         180.3           119.3\n",
              "6-Jan         168.5           180.3"
            ]
          },
          "metadata": {},
          "execution_count": 42
        }
      ]
    },
    {
      "cell_type": "code",
      "metadata": {
        "id": "GP973T2KE5Ls"
      },
      "source": [
        "#drop the null value and make changes to the data\n",
        "shampoo_base.dropna(inplace=True)"
      ],
      "execution_count": 37,
      "outputs": []
    },
    {
      "cell_type": "code",
      "metadata": {
        "colab": {
          "base_uri": "https://localhost:8080/",
          "height": 237
        },
        "id": "pYxLmHyuFDdk",
        "outputId": "766ac61a-14df-4c8b-a32a-ba88f6ec1d00"
      },
      "source": [
        "shampoo_base.head()"
      ],
      "execution_count": 43,
      "outputs": [
        {
          "output_type": "execute_result",
          "data": {
            "text/html": [
              "<div>\n",
              "<style scoped>\n",
              "    .dataframe tbody tr th:only-of-type {\n",
              "        vertical-align: middle;\n",
              "    }\n",
              "\n",
              "    .dataframe tbody tr th {\n",
              "        vertical-align: top;\n",
              "    }\n",
              "\n",
              "    .dataframe thead th {\n",
              "        text-align: right;\n",
              "    }\n",
              "</style>\n",
              "<table border=\"1\" class=\"dataframe\">\n",
              "  <thead>\n",
              "    <tr style=\"text-align: right;\">\n",
              "      <th></th>\n",
              "      <th>Actual_Sales</th>\n",
              "      <th>Forecast_Sales</th>\n",
              "    </tr>\n",
              "    <tr>\n",
              "      <th>Month</th>\n",
              "      <th></th>\n",
              "      <th></th>\n",
              "    </tr>\n",
              "  </thead>\n",
              "  <tbody>\n",
              "    <tr>\n",
              "      <th>2-Jan</th>\n",
              "      <td>145.9</td>\n",
              "      <td>266.0</td>\n",
              "    </tr>\n",
              "    <tr>\n",
              "      <th>3-Jan</th>\n",
              "      <td>183.1</td>\n",
              "      <td>145.9</td>\n",
              "    </tr>\n",
              "    <tr>\n",
              "      <th>4-Jan</th>\n",
              "      <td>119.3</td>\n",
              "      <td>183.1</td>\n",
              "    </tr>\n",
              "    <tr>\n",
              "      <th>5-Jan</th>\n",
              "      <td>180.3</td>\n",
              "      <td>119.3</td>\n",
              "    </tr>\n",
              "    <tr>\n",
              "      <th>6-Jan</th>\n",
              "      <td>168.5</td>\n",
              "      <td>180.3</td>\n",
              "    </tr>\n",
              "  </tbody>\n",
              "</table>\n",
              "</div>"
            ],
            "text/plain": [
              "       Actual_Sales  Forecast_Sales\n",
              "Month                              \n",
              "2-Jan         145.9           266.0\n",
              "3-Jan         183.1           145.9\n",
              "4-Jan         119.3           183.1\n",
              "5-Jan         180.3           119.3\n",
              "6-Jan         168.5           180.3"
            ]
          },
          "metadata": {},
          "execution_count": 43
        }
      ]
    },
    {
      "cell_type": "code",
      "metadata": {
        "id": "ZhIyTKpDFgsV"
      },
      "source": [
        "#calculation of error between the actual and forecast sales\n",
        "#import libraries\n",
        "from sklearn.metrics import mean_squared_error\n",
        "import numpy as np"
      ],
      "execution_count": 44,
      "outputs": []
    },
    {
      "cell_type": "code",
      "metadata": {
        "colab": {
          "base_uri": "https://localhost:8080/"
        },
        "id": "M3R1ijsgGJ3H",
        "outputId": "87d19a81-f8bc-418d-9b03-afdc5edfa4af"
      },
      "source": [
        "shampoo_error=mean_squared_error(shampoo_base.Actual_Sales,shampoo_base.Forecast_Sales)\n",
        "shampoo_error"
      ],
      "execution_count": 46,
      "outputs": [
        {
          "output_type": "execute_result",
          "data": {
            "text/plain": [
              "11715.388285714285"
            ]
          },
          "metadata": {},
          "execution_count": 46
        }
      ]
    },
    {
      "cell_type": "code",
      "metadata": {
        "colab": {
          "base_uri": "https://localhost:8080/"
        },
        "id": "UrQLGX4NG9LM",
        "outputId": "263caa66-dcbd-40f4-dc97-029a697ddbbf"
      },
      "source": [
        "#make the value follow the series matrix (NAIVE model)\n",
        "np.sqrt(shampoo_error)"
      ],
      "execution_count": 48,
      "outputs": [
        {
          "output_type": "execute_result",
          "data": {
            "text/plain": [
              "108.23764726616282"
            ]
          },
          "metadata": {},
          "execution_count": 48
        }
      ]
    },
    {
      "cell_type": "code",
      "metadata": {
        "id": "eyViSWQxHLwp"
      },
      "source": [
        "#create different types of models\n",
        "#most people use ARIMA(Auto Regressive Integrated Moving Average because it contains different functions)\n",
        "#ARIMA(p,d,q)\n",
        "#ARIMA(2,0,0) - auto regressive model (ARI)\n",
        "#ARIMA(0,0,2) - moving averaged mode (MA)\n",
        "#we wil use ARIMA which is a combination of everything\n",
        "#pacf is to evaluate ARI\n",
        "#acf is for MA\n",
        "\n",
        "from statsmodels.graphics.tsaplots import plot_acf,plot_pacf\n",
        "\n",
        "\n"
      ],
      "execution_count": 49,
      "outputs": []
    },
    {
      "cell_type": "code",
      "metadata": {
        "colab": {
          "base_uri": "https://localhost:8080/",
          "height": 545
        },
        "id": "xq2A22LMIxDJ",
        "outputId": "ab92ef40-dd29-459b-88fd-46627858132c"
      },
      "source": [
        "plot_acf(shampoo)"
      ],
      "execution_count": 50,
      "outputs": [
        {
          "output_type": "execute_result",
          "data": {
            "image/png": "[encoded data removed]",
            "text/plain": [
              "<Figure size 432x288 with 1 Axes>"
            ]
          },
          "metadata": {},
          "execution_count": 50
        },
        {
          "output_type": "display_data",
          "data": {
            "image/png": "[encoded data removed]",
            "text/plain": [
              "<Figure size 432x288 with 1 Axes>"
            ]
          },
          "metadata": {
            "needs_background": "light"
          }
        }
      ]
    },
    {
      "cell_type": "code",
      "metadata": {
        "colab": {
          "base_uri": "https://localhost:8080/",
          "height": 545
        },
        "id": "lyYTOiYEJK9h",
        "outputId": "464ef968-01e8-4c69-ea3f-fcb33cfa31bf"
      },
      "source": [
        "#q - 3 p-2, \n",
        "#d - 0-2 (makes the series stationary by removing the seasonality and trends hence helps in doing prediction)\n",
        "plot_pacf(shampoo)"
      ],
      "execution_count": 51,
      "outputs": [
        {
          "output_type": "execute_result",
          "data": {
            "image/png": "[encoded data removed]",
            "text/plain": [
              "<Figure size 432x288 with 1 Axes>"
            ]
          },
          "metadata": {},
          "execution_count": 51
        },
        {
          "output_type": "display_data",
          "data": {
            "image/png": "[encoded data removed]",
            "text/plain": [
              "<Figure size 432x288 with 1 Axes>"
            ]
          },
          "metadata": {
            "needs_background": "light"
          }
        }
      ]
    },
    {
      "cell_type": "code",
      "metadata": {
        "id": "Ml7gt8y_Jz9Q"
      },
      "source": [
        "from statsmodels.tsa.arima_model import ARIMA"
      ],
      "execution_count": 52,
      "outputs": []
    },
    {
      "cell_type": "code",
      "metadata": {
        "id": "lMoHIYNgJ59q"
      },
      "source": [
        "shampoo_train = shampoo[0:25]\n",
        "shampoo_test = shampoo[25:36] #so that we have some some unseen data when evaluating our model for the calculation of error matrix"
      ],
      "execution_count": 79,
      "outputs": []
    },
    {
      "cell_type": "code",
      "metadata": {
        "colab": {
          "base_uri": "https://localhost:8080/"
        },
        "id": "dkksM0fEKQKL",
        "outputId": "26f8ff83-7526-478f-f188-386f2a1c922f"
      },
      "source": [
        "shampoo_model = ARIMA(shampoo_train,order=(3,1,2)) #order is q,p,d (experiment with a couple of models to get the right fit)"
      ],
      "execution_count": 80,
      "outputs": [
        {
          "output_type": "stream",
          "name": "stderr",
          "text": [
            "/usr/local/lib/python3.7/dist-packages/statsmodels/tsa/base/tsa_model.py:215: ValueWarning: An unsupported index was provided and will be ignored when e.g. forecasting.\n",
            "  ' ignored when e.g. forecasting.', ValueWarning)\n",
            "/usr/local/lib/python3.7/dist-packages/statsmodels/tsa/base/tsa_model.py:215: ValueWarning: An unsupported index was provided and will be ignored when e.g. forecasting.\n",
            "  ' ignored when e.g. forecasting.', ValueWarning)\n"
          ]
        }
      ]
    },
    {
      "cell_type": "code",
      "metadata": {
        "id": "xwO-zVgkK5P_"
      },
      "source": [
        "shampoo_model_fit=shampoo_model.fit()"
      ],
      "execution_count": 81,
      "outputs": []
    },
    {
      "cell_type": "code",
      "metadata": {
        "colab": {
          "base_uri": "https://localhost:8080/"
        },
        "id": "pSLr-D-QLSXR",
        "outputId": "bf5cd044-c62a-4c95-fe25-ad924bc24c7f"
      },
      "source": [
        "#check how good the model is\n",
        "shampoo_model_fit.aic"
      ],
      "execution_count": 82,
      "outputs": [
        {
          "output_type": "execute_result",
          "data": {
            "text/plain": [
              "272.38919480711775"
            ]
          },
          "metadata": {},
          "execution_count": 82
        }
      ]
    },
    {
      "cell_type": "code",
      "metadata": {
        "id": "fhj7F0LFLl6f"
      },
      "source": [
        "shampoo_forecast = shampoo_model_fit.forecast(steps=11)[0] # O has the actual forecast values"
      ],
      "execution_count": 84,
      "outputs": []
    },
    {
      "cell_type": "code",
      "metadata": {
        "colab": {
          "base_uri": "https://localhost:8080/"
        },
        "id": "CF4sRGVXMHye",
        "outputId": "e234521f-38dc-4481-de67-2ea79e56dd08"
      },
      "source": [
        "np.sqrt(mean_squared_error(shampoo_test,shampoo_forecast))"
      ],
      "execution_count": 87,
      "outputs": [
        {
          "output_type": "execute_result",
          "data": {
            "text/plain": [
              "130.9271234675795"
            ]
          },
          "metadata": {},
          "execution_count": 87
        }
      ]
    },
    {
      "cell_type": "markdown",
      "metadata": {
        "id": "cEwLX600SVzZ"
      },
      "source": [
        "*   Baseline model - 108.23764726616282\n",
        "*   ARIMA model - 130.9271234675795\n",
        "*   Baseline model is working better than the ARIMA model when it comes to doing the prediction\n",
        "*   \n",
        "\n",
        "\n",
        "\n",
        "\n"
      ]
    },
    {
      "cell_type": "code",
      "metadata": {
        "id": "fWISbO95TChn"
      },
      "source": [
        "p_values=range(0,5)\n",
        "d_values=range(0,3)\n",
        "q_values=range(0,5)"
      ],
      "execution_count": 88,
      "outputs": []
    },
    {
      "cell_type": "code",
      "metadata": {
        "id": "vUnv-2wQVrsO"
      },
      "source": [
        "import warnings\n",
        "warnings.filterwarnings(\"ignore\")"
      ],
      "execution_count": 97,
      "outputs": []
    },
    {
      "cell_type": "code",
      "metadata": {
        "id": "7jTx3tXhTSN2",
        "outputId": "1717709f-27a2-4be1-efca-ea937549ae3f",
        "colab": {
          "base_uri": "https://localhost:8080/"
        }
      },
      "source": [
        "for p in p_values:\n",
        "  for d in d_values:\n",
        "    for q in q_values:\n",
        "        order = (p,d,q)\n",
        "        train,test= shampoo[0:25], shampoo[25:36]\n",
        "        predictions = list()\n",
        "        for i in range(len(test)):\n",
        "            try:\n",
        "                model = ARIMA(train, order)\n",
        "                model_fit = model.fit(disp=0)\n",
        "                pred_y=model_fit.forecast()[0]\n",
        "                predictions.append(pred_y)\n",
        "                error = mean_squared_error(test,predictions)\n",
        "                print('ARIMA%s MSE=%.2f'% (order,error))\n",
        "            except:\n",
        "                continue"
      ],
      "execution_count": 105,
      "outputs": [
        {
          "output_type": "stream",
          "name": "stdout",
          "text": [
            "ARIMA(0, 0, 0) MSE=77950.15\n",
            "ARIMA(0, 0, 1) MSE=70119.33\n",
            "ARIMA(0, 0, 2) MSE=58566.59\n",
            "ARIMA(0, 0, 3) MSE=62031.07\n",
            "ARIMA(0, 0, 4) MSE=30922.44\n",
            "ARIMA(0, 1, 0) MSE=33849.87\n",
            "ARIMA(0, 1, 1) MSE=40654.43\n",
            "ARIMA(0, 1, 2) MSE=34511.80\n",
            "ARIMA(0, 2, 0) MSE=34017.03\n",
            "ARIMA(0, 2, 1) MSE=28391.88\n",
            "ARIMA(1, 0, 0) MSE=61158.54\n",
            "ARIMA(1, 0, 1) MSE=46529.03\n",
            "ARIMA(1, 0, 2) MSE=43922.38\n",
            "ARIMA(1, 0, 4) MSE=25186.13\n",
            "ARIMA(1, 1, 0) MSE=31687.09\n",
            "ARIMA(1, 1, 1) MSE=42176.68\n",
            "ARIMA(1, 2, 0) MSE=18845.82\n",
            "ARIMA(1, 2, 1) MSE=26129.56\n",
            "ARIMA(2, 0, 0) MSE=45248.45\n",
            "ARIMA(2, 0, 1) MSE=34112.76\n",
            "ARIMA(2, 1, 0) MSE=35488.31\n",
            "ARIMA(2, 1, 1) MSE=39633.99\n",
            "ARIMA(2, 1, 2) MSE=35884.79\n",
            "ARIMA(2, 2, 0) MSE=34024.19\n",
            "ARIMA(3, 0, 0) MSE=46326.64\n",
            "ARIMA(3, 1, 0) MSE=22024.85\n",
            "ARIMA(3, 1, 1) MSE=22841.65\n",
            "ARIMA(3, 1, 2) MSE=18095.37\n",
            "ARIMA(3, 1, 4) MSE=37611.03\n",
            "ARIMA(3, 2, 0) MSE=24695.25\n",
            "ARIMA(3, 2, 1) MSE=16368.69\n",
            "ARIMA(3, 2, 2) MSE=15804.23\n",
            "ARIMA(3, 2, 3) MSE=14492.32\n",
            "ARIMA(4, 0, 0) MSE=33233.13\n",
            "ARIMA(4, 0, 1) MSE=28336.95\n",
            "ARIMA(4, 0, 2) MSE=26631.42\n",
            "ARIMA(4, 1, 0) MSE=22339.37\n",
            "ARIMA(4, 1, 1) MSE=22615.97\n",
            "ARIMA(4, 1, 2) MSE=19179.59\n",
            "ARIMA(4, 1, 3) MSE=20601.56\n",
            "ARIMA(4, 1, 4) MSE=19303.97\n",
            "ARIMA(4, 2, 0) MSE=20052.26\n",
            "ARIMA(4, 2, 1) MSE=15572.78\n",
            "ARIMA(4, 2, 2) MSE=16400.19\n",
            "ARIMA(4, 2, 3) MSE=16154.12\n"
          ]
        }
      ]
    },
    {
      "cell_type": "markdown",
      "metadata": {
        "id": "_Zj5f1PXfD4u"
      },
      "source": [
        "\n",
        "\n",
        "*   ARIMA(3,2,3) is the best model...sqrt of 14492.32 is 120.38\n",
        "*   This model is still not better than the Naive model\n",
        "\n"
      ]
    },
    {
      "cell_type": "code",
      "metadata": {
        "id": "AtR-yWMfi1J0",
        "outputId": "f0203151-ff52-4975-f943-eb35d6bc09c5",
        "colab": {
          "base_uri": "https://localhost:8080/",
          "height": 280
        }
      },
      "source": [
        "#Plotting forecast using Naive model results\n",
        "\n",
        "pd.plotting.register_matplotlib_converters()\n",
        "plt.plot(figsize=(12,8))\n",
        "shampoo_base[\"Actual_Sales\"].plot(style=\"--\",color=\"r\", legend=True, label=\"Sales\")\n",
        "shampoo_base[\"Forecast_Sales\"].plot(color=\"b\", legend=True, label=\"Forecast_Sales\");"
      ],
      "execution_count": 115,
      "outputs": [
        {
          "output_type": "display_data",
          "data": {
            "image/png": "[encoded data removed]",
            "text/plain": [
              "<Figure size 432x288 with 1 Axes>"
            ]
          },
          "metadata": {
            "needs_background": "light"
          }
        }
      ]
    }
  ]
}